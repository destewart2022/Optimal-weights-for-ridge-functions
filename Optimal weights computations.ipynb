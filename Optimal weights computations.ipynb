{
 "cells": [
  {
   "cell_type": "code",
   "execution_count": null,
   "id": "095db440",
   "metadata": {},
   "outputs": [],
   "source": [
    "include(\"optweights-test.jl\")"
   ]
  },
  {
   "cell_type": "code",
   "execution_count": null,
   "id": "00a61b21",
   "metadata": {},
   "outputs": [],
   "source": [
    "println(\"Initial lambdamax's\")\n",
    "for ws_in in wstrialin\n",
    "    maxeigval,mu,htaf,bestrf = createfuncns(ws_in,vertices,h,hridge;η=η);\n",
    "    println(\"maxeigval = $maxeigval\")\n",
    "end\n",
    "println()\n",
    "println(\"Final lambdamax's\")\n",
    "for ws_out in wstrialout\n",
    "    maxeigval,mu,htaf,bestrf = createfuncns(ws_out,vertices,h,hridge;η=η);\n",
    "    println(\"maxeigval = $maxeigval\")\n",
    "end "
   ]
  },
  {
   "cell_type": "code",
   "execution_count": null,
   "id": "2730b3e7",
   "metadata": {},
   "outputs": [],
   "source": [
    "for tr in trialresults\n",
    "    display(tr)\n",
    "end"
   ]
  },
  {
   "cell_type": "code",
   "execution_count": null,
   "id": "9f7317f1",
   "metadata": {},
   "outputs": [],
   "source": [
    "wsopt = trialresults[15][2][1]"
   ]
  },
  {
   "cell_type": "code",
   "execution_count": null,
   "id": "5c6df127",
   "metadata": {},
   "outputs": [],
   "source": [
    "for i in 1:3\n",
    "    wsopt[:,i] = wsopt[:,i]/norm(wsopt[:,i])\n",
    "end"
   ]
  },
  {
   "cell_type": "code",
   "execution_count": null,
   "id": "0f9f6b8c",
   "metadata": {},
   "outputs": [],
   "source": [
    "wsopt"
   ]
  },
  {
   "cell_type": "code",
   "execution_count": null,
   "id": "d8c672e5",
   "metadata": {},
   "outputs": [],
   "source": [
    "maxeigval,mu,htaf,bestrf = createfuncns(wsopt,vertices,h,hridge;η=η);"
   ]
  },
  {
   "cell_type": "code",
   "execution_count": null,
   "id": "c0f3362b",
   "metadata": {},
   "outputs": [],
   "source": [
    "fig_htaf = contour(h*(minvxidxs[1]:maxvxidxs[1]),h*(minvxidxs[2]:maxvxidxs[2]),htaf,aspect_ratio=1.0,right_margin=3Plots.mm)\n",
    "# plot!(title=\"f(x)\")\n",
    "plot!(fig_htaf,[cos(θ) for θ=pi/2:0.01:2pi],[sin(θ) for θ=pi/2:0.01:2pi],label=nothing,color=:black)\n",
    "plot!(fig_htaf,[1,1,0],[0,1,1],label=nothing,color=:black)\n",
    "for i = 1:size(wsopt,2)\n",
    "    plot!(fig_htaf,[-wsopt[1,i],wsopt[1,i]],[-wsopt[2,i],wsopt[2,i]],arrow=true,color=:black,linewidth=2,label=nothing)\n",
    "end\n",
    "display(fig_htaf)\n",
    "savefig(\"htaf-wsopt.pdf\")"
   ]
  },
  {
   "cell_type": "code",
   "execution_count": null,
   "id": "12586688",
   "metadata": {},
   "outputs": [],
   "source": [
    "norm(bestrf)/norm(htaf)"
   ]
  },
  {
   "cell_type": "code",
   "execution_count": null,
   "id": "bb5f59f4",
   "metadata": {},
   "outputs": [],
   "source": [
    "fig_diff = contour(h*(minvxidxs[1]:maxvxidxs[1]),h*(minvxidxs[2]:maxvxidxs[2]),htaf-bestrf,aspect_ratio=1.0,right_margin=3Plots.mm)\n",
    "#plot!(title=\"f(x)-g(x)\")\n",
    "plot!(fig_diff,[cos(θ) for θ=pi/2:0.01:2pi],[sin(θ) for θ=pi/2:0.01:2pi],label=nothing,color=:black)\n",
    "plot!(fig_diff,[1,1,0],[0,1,1],label=nothing,color=:black)\n",
    "for i = 1:size(wsopt,2)\n",
    "    plot!(fig_diff,[-wsopt[1,i],wsopt[1,i]],[-wsopt[2,i],wsopt[2,i]],arrow=true,color=:black,linewidth=2,label=nothing)\n",
    "end\n",
    "display(fig_diff)\n",
    "savefig(\"diff-wsopt.pdf\")"
   ]
  },
  {
   "cell_type": "code",
   "execution_count": null,
   "id": "192a12ee",
   "metadata": {},
   "outputs": [],
   "source": [
    "fig_mu = contour(h*(minvxidxs[1]:maxvxidxs[1]),h*(minvxidxs[2]:maxvxidxs[2]),mu,aspect_ratio=1.0,right_margin=3Plots.mm)\n",
    "# plot!(title=\"\\\\mu (x)\")\n",
    "plot!(fig_mu,[cos(θ) for θ=pi/2:0.01:2pi],[sin(θ) for θ=pi/2:0.01:2pi],label=nothing,color=:black)\n",
    "plot!(fig_mu,[1,1,0],[0,1,1],label=nothing,color=:black)\n",
    "for i = 1:size(wsopt,2)\n",
    "    plot!(fig_mu,[-wsopt[1,i],wsopt[1,i]],[-wsopt[2,i],wsopt[2,i]],arrow=true,color=:black,linewidth=2,label=nothing)\n",
    "end\n",
    "display(fig_mu)\n",
    "savefig(\"mu-wsopt.pdf\")"
   ]
  },
  {
   "cell_type": "code",
   "execution_count": null,
   "id": "b8cc302e",
   "metadata": {},
   "outputs": [],
   "source": [
    "fig_bestrf = contour(h*(minvxidxs[1]:maxvxidxs[1]),h*(minvxidxs[2]:maxvxidxs[2]),bestrf,aspect_ratio=1.0,right_margin=3Plots.mm)\n",
    "# plot!(title=\"f(x)\")\n",
    "plot!(fig_bestrf,[cos(θ) for θ=pi/2:0.01:2pi],[sin(θ) for θ=pi/2:0.01:2pi],label=nothing,color=:black)\n",
    "plot!(fig_bestrf,[1,1,0],[0,1,1],label=nothing,color=:black)\n",
    "for i = 1:size(wsopt,2)\n",
    "    plot!(fig_bestrf,[-wsopt[1,i],wsopt[1,i]],[-wsopt[2,i],wsopt[2,i]],arrow=true,color=:black,linewidth=2,label=nothing)\n",
    "end\n",
    "display(fig_bestrf)\n",
    "savefig(\"bestrf-wsopt.pdf\")"
   ]
  },
  {
   "cell_type": "code",
   "execution_count": null,
   "id": "843a6cb3",
   "metadata": {},
   "outputs": [],
   "source": [
    "ws3 = [1 1; 1 -1]/sqrt(2)"
   ]
  },
  {
   "cell_type": "code",
   "execution_count": null,
   "id": "474c1d41",
   "metadata": {},
   "outputs": [],
   "source": [
    "maxeigval3,mu3,htaf3,bestrf3 = createfuncns(ws3,vertices,h,hridge;η=η);"
   ]
  },
  {
   "cell_type": "code",
   "execution_count": null,
   "id": "eaae2cff",
   "metadata": {},
   "outputs": [],
   "source": [
    "maxeigval3"
   ]
  },
  {
   "cell_type": "code",
   "execution_count": null,
   "id": "4c12616b",
   "metadata": {},
   "outputs": [],
   "source": [
    "fig_htaf3 = contour(h*(minvxidxs[1]:maxvxidxs[1]),h*(minvxidxs[2]:maxvxidxs[2]),htaf3,aspect_ratio=1.0,right_margin=3Plots.mm)\n",
    "#plot!(title=\"f(x)\")\n",
    "plot!(fig_htaf3,[cos(θ) for θ=pi/2:0.01:2pi],[sin(θ) for θ=pi/2:0.01:2pi],label=nothing,color=:black)\n",
    "plot!(fig_htaf3,[1,1,0],[0,1,1],label=nothing,color=:black)\n",
    "for i = 1:size(ws3,2)\n",
    "    plot!(fig_htaf3,[-ws3[1,i],ws3[1,i]],[-ws3[2,i],ws3[2,i]],arrow=true,color=:black,linewidth=2,label=nothing)\n",
    "end\n",
    "display(fig_htaf3)"
   ]
  },
  {
   "cell_type": "code",
   "execution_count": null,
   "id": "e6981f2c",
   "metadata": {},
   "outputs": [],
   "source": [
    "fig_diff3 = contour(h*(minvxidxs[1]:maxvxidxs[1]),h*(minvxidxs[2]:maxvxidxs[2]),htaf3-bestrf3,aspect_ratio=1.0,right_margin=3Plots.mm)\n",
    "#plot!(title=\"f(x)\")\n",
    "plot!(fig_diff3,[cos(θ) for θ=pi/2:0.01:2pi],[sin(θ) for θ=pi/2:0.01:2pi],label=nothing,color=:black)\n",
    "plot!(fig_diff3,[1,1,0],[0,1,1],label=nothing,color=:black)\n",
    "for i = 1:size(ws3,2)\n",
    "    plot!(fig_diff3,[-ws3[1,i],ws3[1,i]],[-ws3[2,i],ws3[2,i]],arrow=true,color=:black,linewidth=2,label=nothing)\n",
    "end\n",
    "display(fig_diff3)\n",
    "savefig(fig_diff3,\"diff-ws3.pdf\")"
   ]
  },
  {
   "cell_type": "code",
   "execution_count": null,
   "id": "20aebe16",
   "metadata": {},
   "outputs": [],
   "source": [
    "norm(bestrf3)/norm(htaf3)"
   ]
  },
  {
   "cell_type": "code",
   "execution_count": null,
   "id": "7d615a1b",
   "metadata": {},
   "outputs": [],
   "source": [
    "fig_mu3 = contour(h*(minvxidxs[1]:maxvxidxs[1]),h*(minvxidxs[2]:maxvxidxs[2]),mu3,aspect_ratio=1.0,right_margin=3Plots.mm)\n",
    "#plot!(title=\"f(x)\")\n",
    "plot!(fig_mu3,[cos(θ) for θ=pi/2:0.01:2pi],[sin(θ) for θ=pi/2:0.01:2pi],label=nothing,color=:black)\n",
    "plot!(fig_mu3,[1,1,0],[0,1,1],label=nothing,color=:black)\n",
    "for i = 1:size(ws3,2)\n",
    "    plot!(fig_mu3,[-ws3[1,i],ws3[1,i]],[-ws3[2,i],ws3[2,i]],arrow=true,color=:black,linewidth=2,label=nothing)\n",
    "end\n",
    "display(fig_mu3)\n",
    "savefig(fig_mu3,\"mu-wsopt.pdf\")"
   ]
  },
  {
   "cell_type": "code",
   "execution_count": null,
   "id": "ffbefe00",
   "metadata": {},
   "outputs": [],
   "source": [
    "ws4 = [ws3 [1;0]]"
   ]
  },
  {
   "cell_type": "code",
   "execution_count": null,
   "id": "6c682402",
   "metadata": {},
   "outputs": [],
   "source": [
    "maxeigval4,mu4,htaf4,bestrf4 = createfuncns(ws4,vertices,h,hridge;η=η);"
   ]
  },
  {
   "cell_type": "code",
   "execution_count": null,
   "id": "9323cc46",
   "metadata": {},
   "outputs": [],
   "source": [
    "maxeigval4"
   ]
  },
  {
   "cell_type": "code",
   "execution_count": null,
   "id": "d0776f30",
   "metadata": {},
   "outputs": [],
   "source": [
    "fig_diff4 = contour(h*(minvxidxs[1]:maxvxidxs[1]),h*(minvxidxs[2]:maxvxidxs[2]),htaf4-bestrf4,aspect_ratio=1.0,right_margin=6Plots.mm)\n",
    "#plot!(title=\"f(x)\")\n",
    "plot!(fig_diff4,[cos(θ) for θ=pi/2:0.01:2pi],[sin(θ) for θ=pi/2:0.01:2pi],label=nothing,color=:black)\n",
    "plot!(fig_diff4,[1,1,0],[0,1,1],label=nothing,color=:black)\n",
    "for i = 1:size(ws4,2)\n",
    "    plot!(fig_diff4,[-ws4[1,i],ws4[1,i]],[-ws4[2,i],ws4[2,i]],arrow=true,color=:black,linewidth=2,label=nothing)\n",
    "end\n",
    "display(fig_diff4)"
   ]
  },
  {
   "cell_type": "code",
   "execution_count": null,
   "id": "6f77deea",
   "metadata": {},
   "outputs": [],
   "source": [
    "norm(bestrf4)/norm(htaf4)"
   ]
  },
  {
   "cell_type": "code",
   "execution_count": null,
   "id": "f7b87c4b",
   "metadata": {},
   "outputs": [],
   "source": [
    "print(\"ws start = \"); display(ws4)\n",
    "trialresults4 = []\n",
    "for alpha in alphas\n",
    "    println(\"alpha = $alpha, M = $M\")\n",
    "    wslist = []\n",
    "    results = cg_prp(ws->softmaxL2approxerr(ws,vertices,h,hridge,alpha;η=η) + M*penalty(ws),\n",
    "                        ws->dsoftmaxL2approxerr(ws,vertices,h,hridge,alpha;η=η) + M*dpenalty(ws),\n",
    "                        ws4,tol=1e-3,maxit=20,trace=1,xs=wslist)\n",
    "    push!(trialresults4,(alpha,results))\n",
    "    ws4 = results[1] # extract weights\n",
    "    print(\"ws4 = \"); display(ws4)\n",
    "end"
   ]
  },
  {
   "cell_type": "code",
   "execution_count": null,
   "id": "b3d9dfc7",
   "metadata": {},
   "outputs": [],
   "source": [
    "maxeigval4,mu4,htaf4,bestrf4 = createfuncns(ws4,vertices,h,hridge;η=η);"
   ]
  },
  {
   "cell_type": "code",
   "execution_count": null,
   "id": "37751f3c",
   "metadata": {},
   "outputs": [],
   "source": [
    "maxeigval4"
   ]
  },
  {
   "cell_type": "code",
   "execution_count": null,
   "id": "1c4b0cb3",
   "metadata": {},
   "outputs": [],
   "source": [
    "norm(bestrf4)/norm(htaf4)"
   ]
  },
  {
   "cell_type": "code",
   "execution_count": null,
   "id": "4258a763",
   "metadata": {},
   "outputs": [],
   "source": [
    "ws5 = zeros(2,1)\n",
    "ws5[:,1] = [0.89; 0.45]\n",
    "ws5[:,1] = (ws5[:,1] / norm(ws5[:,1]))"
   ]
  },
  {
   "cell_type": "code",
   "execution_count": null,
   "id": "be596f43",
   "metadata": {},
   "outputs": [],
   "source": [
    "print(\"ws5 start = \"); display(ws5)\n",
    "trialresults5 = []\n",
    "for alpha in alphas\n",
    "    println(\"alpha = $alpha, M = $M\")\n",
    "    wslist = []\n",
    "    results = cg_prp(ws->softmaxL2approxerr(ws,vertices,h,hridge,alpha;η=η) + M*penalty(ws),\n",
    "                        ws->dsoftmaxL2approxerr(ws,vertices,h,hridge,alpha;η=η) + M*dpenalty(ws),\n",
    "                        ws5,tol=1e-3,maxit=20,trace=1,xs=wslist)\n",
    "    push!(trialresults5,(alpha,results))\n",
    "    ws5 = results[1] # extract weights\n",
    "    print(\"ws5 = \"); display(ws5)\n",
    "end"
   ]
  },
  {
   "cell_type": "code",
   "execution_count": null,
   "id": "86382c3a",
   "metadata": {},
   "outputs": [],
   "source": [
    "function wstopeigvals(ws::Matrix{T},vertices::Vector{Vector{Int}},h::T,hridge::T;η::T=zero(T),num::Int=10) where {T}\n",
    "    A,indexes = laplacian(vertices,h)\n",
    "    Achol = cholesky(A[2:end,2:end])\n",
    "    min_k,max_k = minmax_ridgeidxs(ws,vertices, h, hridge)\n",
    "    C,rowstart = Cmatrix(ws,h,hridge,vertices,min_k,max_k)\n",
    "    CCT = cholesky(C*C'+η*I)\n",
    "    P = Matrix(projnullC(C,1.0I(size(A,1)),η=η,normalmx=CCT))\n",
    "    eigenvals,eigenvecs = eigen(Symmetric(P'*tAinvmul(P,Achol)))\n",
    "    eigenvals[end-num+1:end]\n",
    "end"
   ]
  },
  {
   "cell_type": "code",
   "execution_count": null,
   "id": "c9bd1bf9",
   "metadata": {},
   "outputs": [],
   "source": [
    "wstopeigvals(ws3,vertices,h,hridge,η=η)"
   ]
  },
  {
   "cell_type": "code",
   "execution_count": null,
   "id": "b0014dab",
   "metadata": {},
   "outputs": [],
   "source": [
    "wstopeigvals(ws4,vertices,h,hridge,η=η)"
   ]
  },
  {
   "cell_type": "code",
   "execution_count": null,
   "id": "8e95b494",
   "metadata": {},
   "outputs": [],
   "source": [
    "wstopeigvals(wsopt,vertices,h,hridge,η=η)"
   ]
  },
  {
   "cell_type": "code",
   "execution_count": null,
   "id": "6ae42904",
   "metadata": {},
   "outputs": [],
   "source": [
    "0.03998724336051912/0.02679304269570052"
   ]
  },
  {
   "cell_type": "code",
   "execution_count": null,
   "id": "00470294",
   "metadata": {},
   "outputs": [],
   "source": [
    "maxeigvalopt,muopt,htafopt,bestrfopt = createfuncns(wsopt,vertices,h,hridge;η=η);"
   ]
  },
  {
   "cell_type": "code",
   "execution_count": null,
   "id": "30c53731",
   "metadata": {},
   "outputs": [],
   "source": [
    "maxeigvalopt"
   ]
  },
  {
   "cell_type": "code",
   "execution_count": null,
   "id": "426fad09",
   "metadata": {},
   "outputs": [],
   "source": [
    "println(\"f(x) for wsopt\")\n",
    "fig_htafopt = contour(h*(minvxidxs[1]:maxvxidxs[1]),h*(minvxidxs[2]:maxvxidxs[2]),htafopt,aspect_ratio=1.0,right_margin=6Plots.mm)\n",
    "#plot!(title=\"f(x)\")\n",
    "plot!(fig_htafopt,[cos(θ) for θ=pi/2:0.01:2pi],[sin(θ) for θ=pi/2:0.01:2pi],label=nothing,color=:black)\n",
    "plot!(fig_htafopt,[1,1,0],[0,1,1],label=nothing,color=:black)\n",
    "for i = 1:size(wsopt,2)\n",
    "    plot!(fig_htafopt,[-wsopt[1,i],wsopt[1,i]],[-wsopt[2,i],wsopt[2,i]],arrow=true,color=:black,linewidth=2,label=nothing)\n",
    "end\n",
    "display(fig_htafopt)"
   ]
  },
  {
   "cell_type": "code",
   "execution_count": null,
   "id": "b22f1206",
   "metadata": {},
   "outputs": [],
   "source": [
    "println(\"mu(x) for wsopt\")\n",
    "fig_muopt = contour(h*(minvxidxs[1]:maxvxidxs[1]),h*(minvxidxs[2]:maxvxidxs[2]),muopt,aspect_ratio=1.0,right_margin=6Plots.mm)\n",
    "#plot!(title=\"f(x)\")\n",
    "plot!(fig_muopt,[cos(θ) for θ=pi/2:0.01:2pi],[sin(θ) for θ=pi/2:0.01:2pi],label=nothing,color=:black)\n",
    "plot!(fig_muopt,[1,1,0],[0,1,1],label=nothing,color=:black)\n",
    "for i = 1:size(wsopt,2)\n",
    "    plot!(fig_muopt,[-wsopt[1,i],wsopt[1,i]],[-wsopt[2,i],wsopt[2,i]],arrow=true,color=:black,linewidth=2,label=nothing)\n",
    "end\n",
    "display(fig_muopt)"
   ]
  },
  {
   "cell_type": "code",
   "execution_count": null,
   "id": "7ef9bbf8",
   "metadata": {},
   "outputs": [],
   "source": [
    "println(\"g(x) (best ridge fn) for wsopt\")\n",
    "fig_bestrfopt = contour(h*(minvxidxs[1]:maxvxidxs[1]),h*(minvxidxs[2]:maxvxidxs[2]),bestrfopt,aspect_ratio=1.0,right_margin=6Plots.mm)\n",
    "#plot!(title=\"f(x)\")\n",
    "plot!(fig_bestrfopt,[cos(θ) for θ=pi/2:0.01:2pi],[sin(θ) for θ=pi/2:0.01:2pi],label=nothing,color=:black)\n",
    "plot!(fig_bestrfopt,[1,1,0],[0,1,1],label=nothing,color=:black)\n",
    "for i = 1:size(wsopt,2)\n",
    "    plot!(fig_bestrfopt,[-wsopt[1,i],wsopt[1,i]],[-wsopt[2,i],wsopt[2,i]],arrow=true,color=:black,linewidth=2,label=nothing)\n",
    "end\n",
    "display(fig_bestrfopt)"
   ]
  },
  {
   "cell_type": "code",
   "execution_count": null,
   "id": "cd8ec922",
   "metadata": {},
   "outputs": [],
   "source": [
    "norm(bestrfopt)/norm(htafopt)"
   ]
  },
  {
   "cell_type": "code",
   "execution_count": null,
   "id": "b73def31",
   "metadata": {},
   "outputs": [],
   "source": [
    "println(\"f(x)-g(x) (best error) for wsopt\")\n",
    "fig_diffopt = contour(h*(minvxidxs[1]:maxvxidxs[1]),h*(minvxidxs[2]:maxvxidxs[2]),htafopt-bestrfopt,aspect_ratio=1.0,right_margin=6Plots.mm)\n",
    "#plot!(title=\"f(x)\")\n",
    "plot!(fig_diffopt,[cos(θ) for θ=pi/2:0.01:2pi],[sin(θ) for θ=pi/2:0.01:2pi],label=nothing,color=:black)\n",
    "plot!(fig_diffopt,[1,1,0],[0,1,1],label=nothing,color=:black)\n",
    "for i = 1:size(wsopt,2)\n",
    "    plot!(fig_diffopt,[-wsopt[1,i],wsopt[1,i]],[-wsopt[2,i],wsopt[2,i]],arrow=true,color=:black,linewidth=2,label=nothing)\n",
    "end\n",
    "display(fig_diffopt)"
   ]
  },
  {
   "cell_type": "code",
   "execution_count": null,
   "id": "57b5f55c",
   "metadata": {},
   "outputs": [],
   "source": []
  }
 ],
 "metadata": {
  "@webio": {
   "lastCommId": null,
   "lastKernelId": null
  },
  "kernelspec": {
   "display_name": "Julia 1.9.3",
   "language": "julia",
   "name": "julia-1.9"
  },
  "language_info": {
   "file_extension": ".jl",
   "mimetype": "application/julia",
   "name": "julia",
   "version": "1.9.3"
  }
 },
 "nbformat": 4,
 "nbformat_minor": 5
}
